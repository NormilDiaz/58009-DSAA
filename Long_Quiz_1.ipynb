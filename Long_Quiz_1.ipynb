{
  "nbformat": 4,
  "nbformat_minor": 0,
  "metadata": {
    "colab": {
      "provenance": [],
      "authorship_tag": "ABX9TyPudHQQqZ1L3MI49ZLtBlTc",
      "include_colab_link": true
    },
    "kernelspec": {
      "name": "python3",
      "display_name": "Python 3"
    },
    "language_info": {
      "name": "python"
    }
  },
  "cells": [
    {
      "cell_type": "markdown",
      "metadata": {
        "id": "view-in-github",
        "colab_type": "text"
      },
      "source": [
        "<a href=\"https://colab.research.google.com/github/NormilDiaz/58009-DSAA/blob/main/Long_Quiz_1.ipynb\" target=\"_parent\"><img src=\"https://colab.research.google.com/assets/colab-badge.svg\" alt=\"Open In Colab\"/></a>"
      ]
    },
    {
      "cell_type": "code",
      "source": [
        "\n",
        "name = ['N', 'O', 'R', 'M', 'I', 'L', 'D','I', 'A', 'Z', ]\n",
        "\n",
        "print('Original:')\n",
        "print(' ')\n",
        "\n",
        "print(name)\n",
        "\n",
        "print(' ')\n",
        "\n",
        "name = ['N', 'O', 'R', 'M', 'I', 'L', 'D','I', 'A', 'Z', ]\n",
        "\n",
        "print('Reversed:')\n",
        "print(' ')\n",
        "\n",
        "name.reverse()\n",
        "print(name)"
      ],
      "metadata": {
        "colab": {
          "base_uri": "https://localhost:8080/"
        },
        "id": "TmNBUaBX6_aP",
        "outputId": "32a375dd-4a2c-4096-fb3d-ca126db79caf"
      },
      "execution_count": 42,
      "outputs": [
        {
          "output_type": "stream",
          "name": "stdout",
          "text": [
            "Original:\n",
            " \n",
            "['N', 'O', 'R', 'M', 'I', 'L', 'D', 'I', 'A', 'Z']\n",
            " \n",
            "Reversed:\n",
            " \n",
            "['Z', 'A', 'I', 'D', 'L', 'I', 'M', 'R', 'O', 'N']\n"
          ]
        }
      ]
    },
    {
      "cell_type": "code",
      "source": [
        "for num in range(1, 11):\n",
        "\n",
        "  if prime(num):\n",
        "    print(f'{num} is prime')\n",
        "\n",
        "  else:\n",
        "    print(f'{num} is composite')\n",
        "\n",
        "\n",
        "def prime(x):\n",
        "\n",
        "  if x <= 1:\n",
        "    return False\n",
        "\n",
        "  if x <= 3:\n",
        "    return True\n",
        "\n",
        "  if x % 2 == 0 or x % 3 == 0:\n",
        "      return False\n",
        "      i = 5\n",
        "\n",
        "      while i * i <= x:\n",
        "\n",
        "        if x % i == 0 or x % (i + 2) == 0:\n",
        "          return False\n",
        "      i += 6\n",
        "\n",
        "  return True"
      ],
      "metadata": {
        "id": "vW6bs1wl96lF"
      },
      "execution_count": null,
      "outputs": []
    }
  ]
}