{
  "nbformat": 4,
  "nbformat_minor": 0,
  "metadata": {
    "colab": {
      "provenance": [],
      "authorship_tag": "ABX9TyM3IIEpR/t+VhtEvxGpEypr",
      "include_colab_link": true
    },
    "kernelspec": {
      "name": "python3",
      "display_name": "Python 3"
    },
    "language_info": {
      "name": "python"
    }
  },
  "cells": [
    {
      "cell_type": "markdown",
      "metadata": {
        "id": "view-in-github",
        "colab_type": "text"
      },
      "source": [
        "<a href=\"https://colab.research.google.com/github/NormilDiaz/58009-DSAA/blob/main/Arrays_(Uses).ipynb\" target=\"_parent\"><img src=\"https://colab.research.google.com/assets/colab-badge.svg\" alt=\"Open In Colab\"/></a>"
      ]
    },
    {
      "cell_type": "code",
      "source": [
        "animals = ['Cat','Dog','Fish','Monkey']\n",
        "x = animals[0]\n",
        "print(x)"
      ],
      "metadata": {
        "id": "ITndUhy7UmNV"
      },
      "execution_count": null,
      "outputs": []
    },
    {
      "cell_type": "code",
      "execution_count": null,
      "metadata": {
        "id": "2sQtf8trT1gv"
      },
      "outputs": [],
      "source": [
        "#Lenght of an array\n",
        "animals = ['Cat','Dog','Fish','Monkey']\n",
        "x = len(animals)\n",
        "print(x)"
      ]
    },
    {
      "cell_type": "code",
      "source": [
        "#Looping array\n",
        "animals = ['Cat','Dog','Fish','Monkey']\n",
        "for x in animals:\n",
        "  print(x)"
      ],
      "metadata": {
        "id": "HdPZp0rVUtD_"
      },
      "execution_count": null,
      "outputs": []
    },
    {
      "cell_type": "code",
      "source": [
        "#Adding element in array\n",
        "animals = ['cat','dog','fish']\n",
        "animals.append('monkey')\n",
        "print(animals)"
      ],
      "metadata": {
        "id": "zMz6cnEFU0UP"
      },
      "execution_count": null,
      "outputs": []
    },
    {
      "cell_type": "code",
      "source": [
        "#Removing element in array\n",
        "animals = ['cat','dog','fish']\n",
        "animals.pop(1)\n",
        "print(animals)"
      ],
      "metadata": {
        "id": "_6698X_BVK8G"
      },
      "execution_count": null,
      "outputs": []
    },
    {
      "cell_type": "markdown",
      "source": [
        "append() Adds an element at the end of the list\n",
        "\n",
        "clear() Removes all the elements from the list\n",
        "\n",
        "copy() Returns a copy of the list\n",
        "\n",
        "count() Returns the number of elements with the specified value\n",
        "\n",
        "extend() Add the elements of a list (or any iterative), to the end ofthe current list\n",
        "\n",
        "index() Returns the index of the first element with the specifiedvalue\n",
        "\n",
        "insert() Adds an element at the specified position\n",
        "\n",
        "pop() Removes the element at the specified position\n",
        "\n",
        "remove() Removes the first item with the specified value\n",
        "\n",
        "reverse() Reverses the order of the list\n",
        "\n",
        "sort() Sorts the li"
      ],
      "metadata": {
        "id": "7cOevxPFVuNG"
      }
    }
  ]
}