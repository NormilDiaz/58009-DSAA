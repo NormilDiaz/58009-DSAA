{
  "nbformat": 4,
  "nbformat_minor": 0,
  "metadata": {
    "colab": {
      "provenance": [],
      "authorship_tag": "ABX9TyPdMmVJ7LolakEarz6ZddR0",
      "include_colab_link": true
    },
    "kernelspec": {
      "name": "python3",
      "display_name": "Python 3"
    },
    "language_info": {
      "name": "python"
    }
  },
  "cells": [
    {
      "cell_type": "markdown",
      "metadata": {
        "id": "view-in-github",
        "colab_type": "text"
      },
      "source": [
        "<a href=\"https://colab.research.google.com/github/NormilDiaz/58009-DSAA/blob/main/Stacks_and_Queue.ipynb\" target=\"_parent\"><img src=\"https://colab.research.google.com/assets/colab-badge.svg\" alt=\"Open In Colab\"/></a>"
      ]
    },
    {
      "cell_type": "code",
      "execution_count": null,
      "metadata": {
        "id": "mdsrwBu8pYwY"
      },
      "outputs": [],
      "source": [
        "queue = []\n",
        "\n",
        "queue.append('A')\n",
        "queue.append('B')\n",
        "queue.append('C')\n",
        "\n",
        "print(queue)"
      ]
    },
    {
      "cell_type": "code",
      "source": [
        "queue = []\n",
        "\n",
        "queue.append('A')\n",
        "queue.append('B')\n",
        "queue.append('C')\n",
        "\n",
        "print(queue.pop(0))\n",
        "print(queue.pop(0))\n",
        "print(queue.pop(0))\n",
        "print(queue)"
      ],
      "metadata": {
        "id": "zT1x-gsvpsrc"
      },
      "execution_count": null,
      "outputs": []
    },
    {
      "cell_type": "code",
      "source": [
        "queue = []\n",
        "\n",
        "queue.append('Normil')\n",
        "queue.append('G.')\n",
        "queue.append('Diaz')\n",
        "\n",
        "print(\"Items in queue:\", queue)\n",
        "print(' ')\n",
        "print(' ')\n",
        "print(' ')\n",
        "\n",
        "print(\"Printing items in queue one by one:\")\n",
        "print(' ')\n",
        "print(queue.pop(0))\n",
        "print(' ')\n",
        "print(queue.pop(0))\n",
        "print(' ')\n",
        "print(queue.pop(0))\n",
        "\n",
        "print(' ')\n",
        "print(' ')\n",
        "print(' ')\n",
        "print(\"Queue after removal of items:\")\n",
        "print(' ')\n",
        "print(queue)\n",
        "\n",
        "print(' ')\n",
        "print(' ')\n",
        "print(queue.count(0))"
      ],
      "metadata": {
        "id": "EYmU2V-ju3Fy"
      },
      "execution_count": null,
      "outputs": []
    }
  ]
}