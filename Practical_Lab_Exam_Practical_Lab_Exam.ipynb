{
  "nbformat": 4,
  "nbformat_minor": 0,
  "metadata": {
    "colab": {
      "provenance": [],
      "authorship_tag": "ABX9TyOKbWQzfg1A2wehVpbSwGUG",
      "include_colab_link": true
    },
    "kernelspec": {
      "name": "python3",
      "display_name": "Python 3"
    },
    "language_info": {
      "name": "python"
    }
  },
  "cells": [
    {
      "cell_type": "markdown",
      "metadata": {
        "id": "view-in-github",
        "colab_type": "text"
      },
      "source": [
        "<a href=\"https://colab.research.google.com/github/NormilDiaz/58009-DSAA/blob/main/Practical_Lab_Exam_Practical_Lab_Exam.ipynb\" target=\"_parent\"><img src=\"https://colab.research.google.com/assets/colab-badge.svg\" alt=\"Open In Colab\"/></a>"
      ]
    },
    {
      "cell_type": "code",
      "source": [
        "test_score = [26, 49, 98, 87, 62, 75]\n",
        "total = 0\n",
        "\n",
        "for x in test_score:\n",
        "  if x % 2 != 0:\n",
        "    total += x\n",
        "\n",
        "print('The total test score is:',total)"
      ],
      "metadata": {
        "id": "ehZ2OwK0dLct"
      },
      "execution_count": null,
      "outputs": []
    }
  ]
}