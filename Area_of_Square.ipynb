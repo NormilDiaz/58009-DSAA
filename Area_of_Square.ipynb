{
  "nbformat": 4,
  "nbformat_minor": 0,
  "metadata": {
    "colab": {
      "provenance": [],
      "authorship_tag": "ABX9TyOSjla8ilLjq8nl2jqBIJgK",
      "include_colab_link": true
    },
    "kernelspec": {
      "name": "python3",
      "display_name": "Python 3"
    },
    "language_info": {
      "name": "python"
    }
  },
  "cells": [
    {
      "cell_type": "markdown",
      "metadata": {
        "id": "view-in-github",
        "colab_type": "text"
      },
      "source": [
        "<a href=\"https://colab.research.google.com/github/NormilDiaz/58009-DSAA/blob/main/Area_of_Square.ipynb\" target=\"_parent\"><img src=\"https://colab.research.google.com/assets/colab-badge.svg\" alt=\"Open In Colab\"/></a>"
      ]
    },
    {
      "cell_type": "code",
      "execution_count": 1,
      "metadata": {
        "colab": {
          "base_uri": "https://localhost:8080/"
        },
        "id": "y_Z1bjRa5BpF",
        "outputId": "2542f5ee-2e58-423d-a097-4b433a66923a"
      },
      "outputs": [
        {
          "output_type": "stream",
          "name": "stdout",
          "text": [
            "Enter the desired lenght: 2\n",
            "Enter the desired width: 2\n",
            "The Area of the Square is 4.0\n"
          ]
        }
      ],
      "source": [
        "class Square:\n",
        "  def __init__(self,length,width):\n",
        "\n",
        "    self.length = float(input(\"Enter the desired lenght: \"))\n",
        "    self.width = float(input(\"Enter the desired width: \"))\n",
        "\n",
        "  def area(self):\n",
        "     return self.length * self.width\n",
        "\n",
        "  def Display(self):\n",
        "    print('The Area of the Square is', self.area())\n",
        "\n",
        "shape = Square('length','width')\n",
        "shape.Display()"
      ]
    }
  ]
}