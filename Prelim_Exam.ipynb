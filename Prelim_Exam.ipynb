{
  "nbformat": 4,
  "nbformat_minor": 0,
  "metadata": {
    "colab": {
      "provenance": [],
      "authorship_tag": "ABX9TyPBDBgv0cj8ef5R88Ta2Xxe",
      "include_colab_link": true
    },
    "kernelspec": {
      "name": "python3",
      "display_name": "Python 3"
    },
    "language_info": {
      "name": "python"
    }
  },
  "cells": [
    {
      "cell_type": "markdown",
      "metadata": {
        "id": "view-in-github",
        "colab_type": "text"
      },
      "source": [
        "<a href=\"https://colab.research.google.com/github/NormilDiaz/58009-DSAA/blob/main/Prelim_Exam.ipynb\" target=\"_parent\"><img src=\"https://colab.research.google.com/assets/colab-badge.svg\" alt=\"Open In Colab\"/></a>"
      ]
    },
    {
      "cell_type": "markdown",
      "source": [
        "Open your Python (Pycharm or Colab) or Dev C++ to create the source code for adding the test scores 26, 49, 98, 87, 62, 75 (30 points)"
      ],
      "metadata": {
        "id": "xs9xjjTJ4Eax"
      }
    },
    {
      "cell_type": "code",
      "execution_count": null,
      "metadata": {
        "id": "9xODUHtIzW49"
      },
      "outputs": [],
      "source": [
        "test = [26, 49, 98, 87, 62, 75]\n",
        "for x in test:\n",
        "  print(x)\n",
        "\n",
        "test = [26, 49, 98, 87, 62, 75]\n",
        "total = 0\n",
        "\n",
        "for x in test:\n",
        "  if x + 1 != 0:\n",
        "    total += x\n",
        "\n",
        "print('Sum:',total)"
      ]
    },
    {
      "cell_type": "markdown",
      "source": [
        "Create a program to sort the test scores in ascending order (20 points)"
      ],
      "metadata": {
        "id": "AcVT5wwg4W7S"
      }
    },
    {
      "cell_type": "code",
      "source": [
        "test = [26, 49, 98, 87, 62, 75]\n",
        "\n",
        "test.sort()\n",
        "\n",
        "print(\"Ordered Test Scores: \", test)"
      ],
      "metadata": {
        "id": "XfP3a1lQ4Yvp"
      },
      "execution_count": null,
      "outputs": []
    }
  ]
}