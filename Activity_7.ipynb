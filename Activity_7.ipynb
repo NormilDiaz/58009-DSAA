{
  "nbformat": 4,
  "nbformat_minor": 0,
  "metadata": {
    "colab": {
      "provenance": [],
      "authorship_tag": "ABX9TyOfD0J+gvhH3DZa4g7ML+1o",
      "include_colab_link": true
    },
    "kernelspec": {
      "name": "python3",
      "display_name": "Python 3"
    },
    "language_info": {
      "name": "python"
    }
  },
  "cells": [
    {
      "cell_type": "markdown",
      "metadata": {
        "id": "view-in-github",
        "colab_type": "text"
      },
      "source": [
        "<a href=\"https://colab.research.google.com/github/NormilDiaz/58009-DSAA/blob/main/Activity_7.ipynb\" target=\"_parent\"><img src=\"https://colab.research.google.com/assets/colab-badge.svg\" alt=\"Open In Colab\"/></a>"
      ]
    },
    {
      "cell_type": "markdown",
      "source": [
        "Display Graph Edges"
      ],
      "metadata": {
        "id": "0DvbQCTCPV3t"
      }
    },
    {
      "cell_type": "code",
      "source": [
        "class graph:\n",
        "\n",
        "  def __init__(self,gdict=None):\n",
        "    if gdict is None:\n",
        "      gdict = {}\n",
        "    self.gdict = gdict\n",
        "\n",
        "  def edges(self):\n",
        "    return self.findedges()\n",
        "\n",
        "  def findedges(self):\n",
        "    edgename = []\n",
        "    for vrtx in self.gdict:\n",
        "      for nxtvrtx in self.gdict[vrtx]:\n",
        "        if {nxtvrtx, vrtx} not in edgename:\n",
        "          edgename.append({vrtx, nxtvrtx})\n",
        "    return edgename\n",
        "\n",
        "graph_elements = {\n",
        "1 : [2, 3, 5, 6],\n",
        "2 : [1, 3, 4, 5, 6],\n",
        "3 : [1, 2, 4, 5],\n",
        "4 : [2, 3],\n",
        "5 : [1, 2, 3],\n",
        "6 : [1, 2],\n",
        "}\n",
        "\n",
        "g = graph(graph_elements)\n",
        "\n",
        "print(g.edges())"
      ],
      "metadata": {
        "colab": {
          "base_uri": "https://localhost:8080/"
        },
        "id": "b-qcKaqjMLxP",
        "outputId": "ad2a3cf4-fede-4f64-e368-69c41faa3654"
      },
      "execution_count": 9,
      "outputs": [
        {
          "output_type": "stream",
          "name": "stdout",
          "text": [
            "[{1, 2}, {1, 3}, {1, 5}, {1, 6}, {2, 3}, {2, 4}, {2, 5}, {2, 6}, {3, 4}, {3, 5}]\n"
          ]
        }
      ]
    },
    {
      "cell_type": "markdown",
      "source": [
        "Display Graph Vertices"
      ],
      "metadata": {
        "id": "d5ez3zTDPZzk"
      }
    },
    {
      "cell_type": "code",
      "source": [
        "class graph:\n",
        "\n",
        "  def __init__(self,gdict=None):\n",
        "    if gdict is None:\n",
        "      gdict = []\n",
        "    self.gdict = gdict\n",
        "\n",
        "  def getVertices(self):\n",
        "    return list(self.gdict.keys())\n",
        "\n",
        "graph_elements = {\n",
        "\"a\" : [\"b\",\"c\"],\n",
        "\"b\" : [\"a\", \"d\"],\n",
        "\"c\" : [\"a\", \"d\"],\n",
        "\"d\" : [\"e\"],\n",
        "\"e\" : [\"d\"]\n",
        "}\n",
        "\n",
        "g = graph(graph_elements)\n",
        "\n",
        "print(g.getVertices())"
      ],
      "metadata": {
        "colab": {
          "base_uri": "https://localhost:8080/"
        },
        "id": "9RmhLvg3PK7F",
        "outputId": "4719338c-537e-48fb-a0e7-bd291776291c"
      },
      "execution_count": 7,
      "outputs": [
        {
          "output_type": "stream",
          "name": "stdout",
          "text": [
            "['a', 'b', 'c', 'd', 'e']\n"
          ]
        }
      ]
    }
  ]
}