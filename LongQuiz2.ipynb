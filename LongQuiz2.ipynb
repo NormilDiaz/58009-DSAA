{
  "nbformat": 4,
  "nbformat_minor": 0,
  "metadata": {
    "colab": {
      "provenance": [],
      "authorship_tag": "ABX9TyNzduzVCAPJb3prPtNez/xs",
      "include_colab_link": true
    },
    "kernelspec": {
      "name": "python3",
      "display_name": "Python 3"
    },
    "language_info": {
      "name": "python"
    }
  },
  "cells": [
    {
      "cell_type": "markdown",
      "metadata": {
        "id": "view-in-github",
        "colab_type": "text"
      },
      "source": [
        "<a href=\"https://colab.research.google.com/github/NormilDiaz/58009-DSAA/blob/main/LongQuiz2.ipynb\" target=\"_parent\"><img src=\"https://colab.research.google.com/assets/colab-badge.svg\" alt=\"Open In Colab\"/></a>"
      ]
    },
    {
      "cell_type": "code",
      "execution_count": 6,
      "metadata": {
        "colab": {
          "base_uri": "https://localhost:8080/"
        },
        "id": "GXyAjy3amv10",
        "outputId": "93062b67-96f0-414b-d35e-bcfab28f9f2f"
      },
      "outputs": [
        {
          "output_type": "stream",
          "name": "stdout",
          "text": [
            "[{'I', 'E'}, {'E', 'M'}, {'E', 'K'}, {'E', 'J'}, {'F', 'J'}, {'F', 'P'}, {'F', 'K'}, {'I', 'F'}, {'I', 'H'}, {'H', 'J'}, {'K', 'H'}]\n"
          ]
        }
      ],
      "source": [
        "class graph:\n",
        "\n",
        "  def __init__(self,gdict=None):\n",
        "    if gdict is None:\n",
        "      gdict = {}\n",
        "    self.gdict = gdict\n",
        "\n",
        "  def edges(self):\n",
        "    return self.findedges()\n",
        "\n",
        "  def findedges(self):\n",
        "    edgename = []\n",
        "    for vrtx in self.gdict:\n",
        "      for nxtvrtx in self.gdict[vrtx]:\n",
        "        if {nxtvrtx, vrtx} not in edgename:\n",
        "          edgename.append({vrtx, nxtvrtx})\n",
        "    return edgename\n",
        "\n",
        "graph_elements = {\n",
        "'E' : ['I','M','K','J'],\n",
        "'F' : ['J','P','K','I'],\n",
        "'H' : ['I','J','K'],\n",
        "'I' : ['E','H','F'],\n",
        "'J' : ['F','H','E'],\n",
        "'K' : ['E','F','H',],\n",
        "'M' : ['E'],\n",
        "'P' : ['F'],\n",
        "}\n",
        "\n",
        "g = graph(graph_elements)\n",
        "\n",
        "print(g.edges())"
      ]
    },
    {
      "cell_type": "code",
      "source": [
        "class graph:\n",
        "\n",
        "  def __init__(self,gdict=None):\n",
        "    if gdict is None:\n",
        "      gdict = []\n",
        "    self.gdict = gdict\n",
        "\n",
        "  def getVertices(self):\n",
        "    return list(self.gdict.keys())\n",
        "\n",
        "graph_elements = {\n",
        "'E' : ['I','M','K','J'],\n",
        "'F' : ['J','P','K','I'],\n",
        "'H' : ['I','J','K'],\n",
        "'I' : ['E','H','F'],\n",
        "'J' : ['F','H','E'],\n",
        "'K' : ['E','F','H',],\n",
        "'M' : ['E'],\n",
        "'P' : ['F'],\n",
        "}\n",
        "\n",
        "g = graph(graph_elements)\n",
        "\n",
        "print(g.getVertices())"
      ],
      "metadata": {
        "colab": {
          "base_uri": "https://localhost:8080/"
        },
        "id": "t3bKRliUpKWH",
        "outputId": "3d3d44bf-6635-4962-b945-3663f523f607"
      },
      "execution_count": 7,
      "outputs": [
        {
          "output_type": "stream",
          "name": "stdout",
          "text": [
            "['E', 'F', 'H', 'I', 'J', 'K', 'M', 'P']\n"
          ]
        }
      ]
    }
  ]
}