{
  "nbformat": 4,
  "nbformat_minor": 0,
  "metadata": {
    "colab": {
      "provenance": [],
      "authorship_tag": "ABX9TyPqoBWKwSjvYeEjmr5j54+i",
      "include_colab_link": true
    },
    "kernelspec": {
      "name": "python3",
      "display_name": "Python 3"
    },
    "language_info": {
      "name": "python"
    }
  },
  "cells": [
    {
      "cell_type": "markdown",
      "metadata": {
        "id": "view-in-github",
        "colab_type": "text"
      },
      "source": [
        "<a href=\"https://colab.research.google.com/github/NormilDiaz/58009-DSAA/blob/main/Vector_and_Operation.ipynb\" target=\"_parent\"><img src=\"https://colab.research.google.com/assets/colab-badge.svg\" alt=\"Open In Colab\"/></a>"
      ]
    },
    {
      "cell_type": "markdown",
      "source": [
        "Vector"
      ],
      "metadata": {
        "id": "S2p4VXtBh_tG"
      }
    },
    {
      "cell_type": "code",
      "source": [
        "import numpy as np\n",
        "\n",
        "A = np.array([4,3])\n",
        "B = np.array([2, -5])\n",
        "\n",
        "print('Vector A is ', A)\n",
        "print('Vector B is ', B)"
      ],
      "metadata": {
        "id": "qkTHki77hLPX"
      },
      "execution_count": null,
      "outputs": []
    },
    {
      "cell_type": "markdown",
      "source": [
        "Matrix"
      ],
      "metadata": {
        "id": "d3MUXmbTh7Xg"
      }
    },
    {
      "cell_type": "code",
      "source": [
        "matrix = [[1, 2, 3, 4],\n",
        "         [5, 6, 7, 8],\n",
        "         [9, 10, 11, 12]]\n",
        "\n",
        "print(\"Matrix =\", matrix)"
      ],
      "metadata": {
        "id": "5wszxbjdhcB1"
      },
      "execution_count": null,
      "outputs": []
    },
    {
      "cell_type": "markdown",
      "source": [
        "Identity Matrix"
      ],
      "metadata": {
        "id": "1mnZoRN8zYCT"
      }
    },
    {
      "cell_type": "code",
      "source": [
        "import numpy as np\n",
        "\n",
        "c = np.eye(3, 3)\n",
        "print(c)"
      ],
      "metadata": {
        "id": "rYK8L93Qzan7"
      },
      "execution_count": null,
      "outputs": []
    },
    {
      "cell_type": "markdown",
      "source": [
        "Zero Matrix"
      ],
      "metadata": {
        "id": "1CmYG8FRzub_"
      }
    },
    {
      "cell_type": "code",
      "source": [
        "import numpy as np\n",
        "\n",
        "d = np.zeros([5,5])\n",
        "print(d)"
      ],
      "metadata": {
        "id": "alJzJ3IHzsdZ"
      },
      "execution_count": null,
      "outputs": []
    },
    {
      "cell_type": "markdown",
      "source": [
        "Full Matrix"
      ],
      "metadata": {
        "id": "YCQEf1PM0xd4"
      }
    },
    {
      "cell_type": "code",
      "source": [
        "import numpy as np\n",
        "\n",
        "d = np.full((3,3), 7)\n",
        "print(d)"
      ],
      "metadata": {
        "id": "pdLuh_5Z0cy6"
      },
      "execution_count": null,
      "outputs": []
    },
    {
      "cell_type": "markdown",
      "source": [
        "Transposive Matrix"
      ],
      "metadata": {
        "id": "QHJNboQ9062H"
      }
    },
    {
      "cell_type": "code",
      "source": [
        "import numpy as np\n",
        "\n",
        "G = np.transpose([[1, 2, 3],\n",
        "                 [4, 5, 6],\n",
        "                 [7, 8, 9]])\n",
        "\n",
        "print(G)"
      ],
      "metadata": {
        "id": "vVZwZOrC2OaH"
      },
      "execution_count": null,
      "outputs": []
    },
    {
      "cell_type": "markdown",
      "source": [
        "Checking shapes"
      ],
      "metadata": {
        "id": "GOGXzWhVjn3t"
      }
    },
    {
      "cell_type": "code",
      "source": [
        "import numpy as np\n",
        "\n",
        "ball1 = np.array([1,2,3])\n",
        "\n",
        "print(ball1)"
      ],
      "metadata": {
        "id": "gdfWbDW4jAuK"
      },
      "execution_count": null,
      "outputs": []
    },
    {
      "cell_type": "code",
      "source": [
        "import numpy as np\n",
        "\n",
        "ball1 = np.array(([1],[2],[3]))\n",
        "\n",
        "print(ball1)"
      ],
      "metadata": {
        "id": "1X5qGy48j_zD"
      },
      "execution_count": null,
      "outputs": []
    },
    {
      "cell_type": "code",
      "source": [
        "import numpy as np\n",
        "\n",
        "ball1 = np.array([1,2,3])\n",
        "ball2 = np.array([0,1,-1])\n",
        "\n",
        "print(ball1)\n",
        "print(ball2)"
      ],
      "metadata": {
        "id": "4-wxwzLvkiv_"
      },
      "execution_count": null,
      "outputs": []
    },
    {
      "cell_type": "markdown",
      "source": [
        "Compute the numbers inside array"
      ],
      "metadata": {
        "id": "YlMG3CSJlG6b"
      }
    },
    {
      "cell_type": "code",
      "source": [
        "import numpy as np\n",
        "\n",
        "ball1 = np.array([1,2,3])\n",
        "ball2 = np.array([0,1,-1])\n",
        "\n",
        "print(ball1)\n",
        "print(ball2)\n",
        "\n",
        "ball = np.shape(ball1)\n",
        "\n",
        "\n",
        "print(ball)"
      ],
      "metadata": {
        "id": "rPGzOVgok4Kc"
      },
      "execution_count": null,
      "outputs": []
    },
    {
      "cell_type": "code",
      "source": [
        "import numpy as np\n",
        "\n",
        "ball1 = np.array([1,2,3])\n",
        "ball2 = np.array([0,1,-1])\n",
        "\n",
        "print('Numbers inside of an array:')\n",
        "print(' ')\n",
        "\n",
        "print('Ball1:')\n",
        "print(ball1)\n",
        "\n",
        "print('Ball2:')\n",
        "print(ball2)\n",
        "\n",
        "ball1 = np.shape(ball1)\n",
        "ball2 = np.shape(ball2)\n",
        "\n",
        "x = ball1 + ball2\n",
        "\n",
        "print(' ')\n",
        "print('Count:')\n",
        "print(x)"
      ],
      "metadata": {
        "id": "A_H9w_ewmFcJ"
      },
      "execution_count": null,
      "outputs": []
    },
    {
      "cell_type": "markdown",
      "source": [
        "Addition of Vector"
      ],
      "metadata": {
        "id": "z8AnQ_xho5Y2"
      }
    },
    {
      "cell_type": "code",
      "source": [
        "import numpy as np\n",
        "\n",
        "A = np.array([4, 3])\n",
        "B = np.array([3, -5])\n",
        "\n",
        "R = np.add(A, B)\n",
        "\n",
        "print(R)"
      ],
      "metadata": {
        "id": "KkBnH8wao6sH"
      },
      "execution_count": null,
      "outputs": []
    },
    {
      "cell_type": "markdown",
      "source": [
        "Subtraction of Vector"
      ],
      "metadata": {
        "id": "zGvEPFn5t8BY"
      }
    },
    {
      "cell_type": "code",
      "source": [
        "import numpy as np\n",
        "\n",
        "A = np.array([4, 3])\n",
        "B = np.array([3, -5])\n",
        "\n",
        "R = np.subtract(A, B)\n",
        "\n",
        "print(R)"
      ],
      "metadata": {
        "id": "Ee8H1CKftuDD"
      },
      "execution_count": null,
      "outputs": []
    },
    {
      "cell_type": "markdown",
      "source": [
        "Scalar Product"
      ],
      "metadata": {
        "id": "PRW-ut5avUAo"
      }
    },
    {
      "cell_type": "code",
      "source": [
        "import numpy as np\n",
        "\n",
        "A = np.array([4, 3])\n",
        "S = np.array([2])\n",
        "\n",
        "V = S * A\n",
        "\n",
        "print(V)"
      ],
      "metadata": {
        "id": "PWjWVqBSu9L4"
      },
      "execution_count": null,
      "outputs": []
    },
    {
      "cell_type": "markdown",
      "source": [
        "Dot Product"
      ],
      "metadata": {
        "id": "-rFyEzMWvV3n"
      }
    },
    {
      "cell_type": "code",
      "source": [
        "import numpy as np\n",
        "\n",
        "A = np.array([4, 3])\n",
        "B = np.array(([2], [-5]))\n",
        "\n",
        "V = B * A\n",
        "\n",
        "print(V)"
      ],
      "metadata": {
        "id": "__rJTL0cvXXL"
      },
      "execution_count": null,
      "outputs": []
    }
  ]
}