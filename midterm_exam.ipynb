{
  "nbformat": 4,
  "nbformat_minor": 0,
  "metadata": {
    "colab": {
      "provenance": [],
      "authorship_tag": "ABX9TyMZAHIArEuOvdERfU/vU3M1",
      "include_colab_link": true
    },
    "kernelspec": {
      "name": "python3",
      "display_name": "Python 3"
    },
    "language_info": {
      "name": "python"
    }
  },
  "cells": [
    {
      "cell_type": "markdown",
      "metadata": {
        "id": "view-in-github",
        "colab_type": "text"
      },
      "source": [
        "<a href=\"https://colab.research.google.com/github/NormilDiaz/58009-DSAA/blob/main/midterm_exam.ipynb\" target=\"_parent\"><img src=\"https://colab.research.google.com/assets/colab-badge.svg\" alt=\"Open In Colab\"/></a>"
      ]
    },
    {
      "cell_type": "markdown",
      "source": [
        "Question 7:"
      ],
      "metadata": {
        "id": "sIK0pCSBM5C_"
      }
    },
    {
      "cell_type": "code",
      "execution_count": null,
      "metadata": {
        "id": "exvybJNOMnWO"
      },
      "outputs": [],
      "source": [
        "                                                              #Edges\n",
        "class graph:\n",
        "\n",
        "  def __init__(self,gdict=None):\n",
        "    if gdict is None:\n",
        "      gdict = {}\n",
        "    self.gdict = gdict\n",
        "\n",
        "  def edges(self):\n",
        "    return self.findedges()\n",
        "\n",
        "  def findedges(self):\n",
        "    edgename = []\n",
        "    for vrtx in self.gdict:\n",
        "      for nxtvrtx in self.gdict[vrtx]:\n",
        "        if {nxtvrtx, vrtx} not in edgename:\n",
        "          edgename.append({vrtx, nxtvrtx})\n",
        "    return edgename\n",
        "\n",
        "graph_elements = {\n",
        "'A' : [\"B\"],\n",
        "'B' : ['A', 'C', 'E', 'F'],\n",
        "'C' : ['D', 'E', 'F', 'I', 'M'],\n",
        "'D' : ['C', 'K', 'L'],\n",
        "'E' : ['B', 'C', 'N'],\n",
        "'F' : ['B', 'C', 'G', 'I'],\n",
        "'G' : ['I', 'J', 'F'],\n",
        "'I' : ['G', 'J', 'K', 'F', 'C'],\n",
        "'J' : ['I', 'G', 'K'],\n",
        "'K' : ['D', 'I', 'J'],\n",
        "'L' : ['D', 'M', 'P'],\n",
        "'M' : ['N', 'P', 'O', 'C', 'L'],\n",
        "'N' : ['M', 'O', 'E'],\n",
        "'O': ['N', 'P', 'M'],\n",
        "'P': ['M', 'O', 'L'],\n",
        "}\n",
        "\n",
        "g = graph(graph_elements)\n",
        "\n",
        "print(g.edges())"
      ]
    },
    {
      "cell_type": "code",
      "source": [
        "                                                              #Vertices\n",
        "class graph:\n",
        "\n",
        "  def __init__(self,gdict=None):\n",
        "    if gdict is None:\n",
        "      gdict = []\n",
        "    self.gdict = gdict\n",
        "\n",
        "  def getVertices(self):\n",
        "    return list(self.gdict.keys())\n",
        "\n",
        "graph_elements = {\n",
        "'A' : [\"B\"],\n",
        "'B' : ['A', 'C', 'E', 'F'],\n",
        "'C' : ['D', 'E', 'F', 'I', 'M'],\n",
        "'D' : ['C', 'K', 'L'],\n",
        "'E' : ['B', 'C', 'N'],\n",
        "'F' : ['B', 'C', 'G', 'I'],\n",
        "'G' : ['I', 'J', 'F'],\n",
        "'I' : ['G', 'J', 'K', 'F', 'C'],\n",
        "'J' : ['I', 'G', 'K'],\n",
        "'K' : ['D', 'I', 'J'],\n",
        "'L' : ['D', 'M', 'P'],\n",
        "'M' : ['N', 'P', 'O', 'C', 'L'],\n",
        "'N' : ['M', 'O', 'E'],\n",
        "'O': ['N', 'P', 'M'],\n",
        "'P': ['M', 'O', 'L'],\n",
        "}\n",
        "\n",
        "g = graph(graph_elements)\n",
        "\n",
        "print(g.getVertices())"
      ],
      "metadata": {
        "id": "y6w9J9nCNSgH"
      },
      "execution_count": null,
      "outputs": []
    }
  ]
}