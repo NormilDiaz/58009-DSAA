{
  "nbformat": 4,
  "nbformat_minor": 0,
  "metadata": {
    "colab": {
      "provenance": [],
      "authorship_tag": "ABX9TyP79gxPUOyhJpEiiTD/A60Y",
      "include_colab_link": true
    },
    "kernelspec": {
      "name": "python3",
      "display_name": "Python 3"
    },
    "language_info": {
      "name": "python"
    }
  },
  "cells": [
    {
      "cell_type": "markdown",
      "metadata": {
        "id": "view-in-github",
        "colab_type": "text"
      },
      "source": [
        "<a href=\"https://colab.research.google.com/github/NormilDiaz/58009-DSAA/blob/main/Activity_.ipynb\" target=\"_parent\"><img src=\"https://colab.research.google.com/assets/colab-badge.svg\" alt=\"Open In Colab\"/></a>"
      ]
    },
    {
      "cell_type": "code",
      "execution_count": null,
      "metadata": {
        "id": "eEeP-TuWevdD"
      },
      "outputs": [],
      "source": [
        "integers = [1,2,3,4,5,6,7,8,9,10]\n",
        "for x in integers:\n",
        "  print(x)\n",
        "\n",
        "integers = [1,2,3,4,5,6,7,8,9,10]\n",
        "total = 0\n",
        "\n",
        "for x in integers:\n",
        "  if x + 1 != 0:\n",
        "    total += x\n",
        "\n",
        "print('Sum:',total)"
      ]
    },
    {
      "cell_type": "code",
      "source": [
        "integers = ['1','2','3','4','5','6','7','8','9','10']\n",
        "integers.append('11')\n",
        "print(integers)\n",
        ""
      ],
      "metadata": {
        "id": "geHKF-3Mf7cf"
      },
      "execution_count": null,
      "outputs": []
    },
    {
      "cell_type": "code",
      "source": [
        "integers = ['1','2','3','4','5','6','7','8','9','10']\n",
        "integers.insert(1,'11')\n",
        "print(integers)"
      ],
      "metadata": {
        "id": "4b6Acjhth0LU"
      },
      "execution_count": null,
      "outputs": []
    },
    {
      "cell_type": "code",
      "source": [
        "integers = [5,4,3,2,1]\n",
        "integers.reverse()\n",
        "print(integers)"
      ],
      "metadata": {
        "id": "SQzgaAFyif5k"
      },
      "execution_count": null,
      "outputs": []
    },
    {
      "cell_type": "code",
      "source": [
        "integers = [5,4,3,2,1]\n",
        "x = len(integers)\n",
        "print(x)"
      ],
      "metadata": {
        "id": "NlQFWD1jiyOx"
      },
      "execution_count": null,
      "outputs": []
    }
  ]
}